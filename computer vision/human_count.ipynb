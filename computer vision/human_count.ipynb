{
 "cells": [
  {
   "cell_type": "code",
   "execution_count": 1,
   "metadata": {},
   "outputs": [
    {
     "name": "stdout",
     "output_type": "stream",
     "text": [
      "Requirement already satisfied: numpy in c:\\programdata\\anaconda3\\lib\\site-packages (1.16.4)\n",
      "Note: you may need to restart the kernel to use updated packages.\n"
     ]
    }
   ],
   "source": [
    "pip install numpy"
   ]
  },
  {
   "cell_type": "code",
   "execution_count": 2,
   "metadata": {},
   "outputs": [
    {
     "name": "stdout",
     "output_type": "stream",
     "text": [
      "Requirement already satisfied: imutils in c:\\programdata\\anaconda3\\lib\\site-packages (0.5.3)\n",
      "Note: you may need to restart the kernel to use updated packages.\n"
     ]
    }
   ],
   "source": [
    "pip install imutils"
   ]
  },
  {
   "cell_type": "code",
   "execution_count": 3,
   "metadata": {},
   "outputs": [
    {
     "name": "stdout",
     "output_type": "stream",
     "text": [
      "Requirement already satisfied: opencv-contrib-python in c:\\programdata\\anaconda3\\lib\\site-packages (4.2.0.32)\n",
      "Requirement already satisfied: numpy>=1.14.5 in c:\\programdata\\anaconda3\\lib\\site-packages (from opencv-contrib-python) (1.16.4)\n",
      "Note: you may need to restart the kernel to use updated packages.\n"
     ]
    }
   ],
   "source": [
    "pip install opencv-contrib-python"
   ]
  },
  {
   "cell_type": "code",
   "execution_count": 4,
   "metadata": {},
   "outputs": [
    {
     "name": "stdout",
     "output_type": "stream",
     "text": [
      "Requirement already satisfied: requests in c:\\programdata\\anaconda3\\lib\\site-packages (2.22.0)\n",
      "Requirement already satisfied: certifi>=2017.4.17 in c:\\programdata\\anaconda3\\lib\\site-packages (from requests) (2019.6.16)\n",
      "Requirement already satisfied: urllib3!=1.25.0,!=1.25.1,<1.26,>=1.21.1 in c:\\programdata\\anaconda3\\lib\\site-packages (from requests) (1.24.2)\n",
      "Requirement already satisfied: idna<2.9,>=2.5 in c:\\programdata\\anaconda3\\lib\\site-packages (from requests) (2.8)\n",
      "Requirement already satisfied: chardet<3.1.0,>=3.0.2 in c:\\programdata\\anaconda3\\lib\\site-packages (from requests) (3.0.4)\n",
      "Note: you may need to restart the kernel to use updated packages.\n"
     ]
    }
   ],
   "source": [
    "pip install requests"
   ]
  },
  {
   "cell_type": "code",
   "execution_count": 7,
   "metadata": {},
   "outputs": [],
   "source": [
    "from imutils import object_detection \n",
    "# import non_max_suppression \n",
    "import numpy as np \n",
    "import imutils #ry tool for DIP and will let us perform different transformations from our results\n",
    "import cv2 \n",
    "import requests \n",
    "import time \n",
    "import argparse #read commands from our command terminal inside our script."
   ]
  },
  {
   "cell_type": "code",
   "execution_count": 8,
   "metadata": {},
   "outputs": [],
   "source": [
    "# Opencv pre-trained SVM with HOG people features \n",
    "HOGCV = cv2.HOGDescriptor()\n",
    "HOGCV.setSVMDetector(cv2.HOGDescriptor_getDefaultPeopleDetector())"
   ]
  },
  {
   "cell_type": "code",
   "execution_count": 10,
   "metadata": {},
   "outputs": [],
   "source": [
    "def detector(image):\n",
    "    '''\n",
    "    @image is a numpy array\n",
    "    '''\n",
    "\n",
    "    image = imutils.resize(image, width=min(400, image.shape[1]))\n",
    "    clone = image.copy()\n",
    "\n",
    "    (rects, weights) = HOGCV.detectMultiScale(image, winStride=(8, 8),\n",
    "                                              padding=(32, 32), scale=1.05)\n",
    "\n",
    "    # Applies non-max supression from imutils package to kick-off overlapped causing false positives or detection errors\n",
    "    # boxes\n",
    "    rects = np.array([[x, y, x + w, y + h] for (x, y, w, h) in rects])\n",
    "    result = non_max_suppression(rects, probs=None, overlapThresh=0.65)\n",
    "    # \n",
    "    return result"
   ]
  },
  {
   "cell_type": "code",
   "execution_count": 12,
   "metadata": {},
   "outputs": [],
   "source": [
    "def localDetect(image_path):\n",
    "    result = []\n",
    "    image = cv2.imread(image_path)\n",
    "    if len(image) <= 0:\n",
    "        print(\"[ERROR] could not read your local image\")\n",
    "        return result\n",
    "    print(\"[INFO] Detecting people\")\n",
    "    result = detector(image)\n",
    "\n",
    "    # shows the result\n",
    "    for (xA, yA, xB, yB) in result:\n",
    "        cv2.rectangle(image, (xA, yA), (xB, yB), (0, 255, 0), 2)\n",
    "\n",
    "    cv2.imshow(\"result\", image)\n",
    "    cv2.waitKey(0)\n",
    "    cv2.destroyAllWindows()\n",
    "    return (result, image)"
   ]
  },
  {
   "cell_type": "code",
   "execution_count": 13,
   "metadata": {},
   "outputs": [],
   "source": [
    "def cameraDetect(token, device, variable, sample_time=5):\n",
    "\n",
    "    cap = cv2.VideoCapture(0)\n",
    "    init = time.time()\n",
    "\n",
    "    # Allowed sample time for Ubidots is 1 dot/second\n",
    "    if sample_time < 1:\n",
    "        sample_time = 1\n",
    "\n",
    "    while(True):\n",
    "        # Capture frame-by-frame\n",
    "        ret, frame = cap.read()\n",
    "        frame = imutils.resize(frame, width=min(400, frame.shape[1]))\n",
    "        result = detector(frame.copy())\n",
    "\n",
    "        # shows the result\n",
    "        for (xA, yA, xB, yB) in result:\n",
    "            cv2.rectangle(frame, (xA, yA), (xB, yB), (0, 255, 0), 2)\n",
    "        cv2.imshow('frame', frame)\n",
    "\n",
    "        '''\n",
    "        # Sends results\n",
    "        if time.time() - init >= sample_time:\n",
    "            print(\"[INFO] Sending actual frame results\")\n",
    "            # Converts the image to base 64 and adds it to the context\n",
    "            b64 = convert_to_base64(frame)\n",
    "            context = {\"image\": b64}\n",
    "            #sendToUbidots(token, device, variable,len(result), context=context)\n",
    "            init = time.time()\n",
    "        '''\n",
    "\n",
    "        if cv2.waitKey(1) & 0xFF == ord('q'):\n",
    "            break\n",
    "\n",
    "    # When everything done, release the capture\n",
    "    cap.release()\n",
    "    cv2.destroyAllWindows()\n",
    "\n",
    "def convert_to_base64(image):\n",
    "    image = imutils.resize(image, width=400)\n",
    "    img_str = cv2.imencode('.png', image)[1].tostring()\n",
    "    b64 = base64.b64encode(img_str)\n",
    "    return b64.decode('utf-8')"
   ]
  },
  {
   "cell_type": "code",
   "execution_count": 14,
   "metadata": {},
   "outputs": [],
   "source": [
    "def detectPeople(args):\n",
    "#     image_path = args[\"image\"]\n",
    "    camera = True if str(args[\"camera\"]) == 'true' else False\n",
    "\n",
    "    # Routine to read local image\n",
    "    if image_path != None and not camera:\n",
    "        print(\"[INFO] Image path provided, attempting to read image\")\n",
    "        (result, image) = localDetect(image_path)\n",
    "        print(\"[INFO] sending results\")\n",
    "        # Converts the image to base 64 and adds it to the context\n",
    "        b64 = convert_to_base64(image)\n",
    "        context = {\"image\": b64}\n",
    "\n",
    "        '''\n",
    "        # Sends the result\n",
    "        req = sendToUbidots(TOKEN, DEVICE, VARIABLE,\n",
    "                            len(result), context=context)\n",
    "        if req.status_code >= 400:\n",
    "            print(\"[ERROR] Could not send data to Ubidots\")\n",
    "            return req\n",
    "        '''\n",
    "\n",
    "    # Routine to read images from webcam\n",
    "    if camera:\n",
    "        print(\"[INFO] reading camera images\")\n",
    "        cameraDetect(TOKEN, DEVICE, VARIABLE)"
   ]
  },
  {
   "cell_type": "code",
   "execution_count": 16,
   "metadata": {
    "scrolled": true
   },
   "outputs": [
    {
     "data": {
      "text/plain": [
       "'\\ndef buildPayload(variable, value, context):\\n    return {variable: {\"value\": value, \"context\": context}}\\n\\n\\ndef sendToUbidots(token, device, variable, value, context={}, industrial=True):\\n    # Builds the endpoint\\n    url = URL_INDUSTRIAL if industrial else URL_EDUCATIONAL\\n    url = \"{}/api/v1.6/devices/{}\".format(url, device)\\n\\n    payload = buildPayload(variable, value, context)\\n    headers = {\"X-Auth-Token\": token, \"Content-Type\": \"application/json\"}\\n\\n    attempts = 0\\n    status = 400\\n\\n    while status >= 400 and attempts <= 5:\\n        req = requests.post(url=url, headers=headers, json=payload)\\n        status = req.status_code\\n        attempts += 1\\n        time.sleep(1)\\n\\nreturn req\\n'"
      ]
     },
     "execution_count": 16,
     "metadata": {},
     "output_type": "execute_result"
    }
   ],
   "source": [
    "'''\n",
    "def buildPayload(variable, value, context):\n",
    "    return {variable: {\"value\": value, \"context\": context}}\n",
    "\n",
    "\n",
    "def sendToUbidots(token, device, variable, value, context={}, industrial=True):\n",
    "    # Builds the endpoint\n",
    "    url = URL_INDUSTRIAL if industrial else URL_EDUCATIONAL\n",
    "    url = \"{}/api/v1.6/devices/{}\".format(url, device)\n",
    "\n",
    "    payload = buildPayload(variable, value, context)\n",
    "    headers = {\"X-Auth-Token\": token, \"Content-Type\": \"application/json\"}\n",
    "\n",
    "    attempts = 0\n",
    "    status = 400\n",
    "\n",
    "    while status >= 400 and attempts <= 5:\n",
    "        req = requests.post(url=url, headers=headers, json=payload)\n",
    "        status = req.status_code\n",
    "        attempts += 1\n",
    "        time.sleep(1)\n",
    "\n",
    "return req\n",
    "'''"
   ]
  },
  {
   "cell_type": "code",
   "execution_count": 20,
   "metadata": {},
   "outputs": [],
   "source": [
    "def argsParser():\n",
    "    ap = argparse.ArgumentParser()\n",
    "#     ap.add_argument(\"-i\", \"--image\", default=None,help=\"path to image test file directory\")\n",
    "    ap.add_argument(\"-c\", \"--camera\", default=False,\n",
    "                    help=\"Set as true if you wish to use the camera\")\n",
    "    args = vars(ap.parse_args())\n",
    "\n",
    "    return args"
   ]
  },
  {
   "cell_type": "code",
   "execution_count": 21,
   "metadata": {
    "scrolled": true
   },
   "outputs": [
    {
     "name": "stderr",
     "output_type": "stream",
     "text": [
      "usage: ipykernel_launcher.py [-h] [-c CAMERA]\n",
      "ipykernel_launcher.py: error: unrecognized arguments: -f C:\\Users\\rishi\\AppData\\Roaming\\jupyter\\runtime\\kernel-bb9a2f2d-e7da-4c1c-b49f-05604c342d91.json\n"
     ]
    },
    {
     "ename": "SystemExit",
     "evalue": "2",
     "output_type": "error",
     "traceback": [
      "An exception has occurred, use %tb to see the full traceback.\n",
      "\u001b[1;31mSystemExit\u001b[0m\u001b[1;31m:\u001b[0m 2\n"
     ]
    }
   ],
   "source": [
    "def main():\n",
    "    args = argsParser()\n",
    "    detectPeople(args)\n",
    "\n",
    "\n",
    "if __name__ == '__main__':\n",
    "    main()"
   ]
  },
  {
   "cell_type": "code",
   "execution_count": null,
   "metadata": {},
   "outputs": [],
   "source": []
  }
 ],
 "metadata": {
  "kernelspec": {
   "display_name": "Python 3",
   "language": "python",
   "name": "python3"
  },
  "language_info": {
   "codemirror_mode": {
    "name": "ipython",
    "version": 3
   },
   "file_extension": ".py",
   "mimetype": "text/x-python",
   "name": "python",
   "nbconvert_exporter": "python",
   "pygments_lexer": "ipython3",
   "version": "3.7.3"
  }
 },
 "nbformat": 4,
 "nbformat_minor": 2
}
