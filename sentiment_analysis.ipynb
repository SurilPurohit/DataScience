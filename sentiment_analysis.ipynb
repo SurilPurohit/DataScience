{
 "cells": [
  {
   "cell_type": "code",
   "execution_count": 1,
   "metadata": {},
   "outputs": [
    {
     "name": "stdout",
     "output_type": "stream",
     "text": [
      "Requirement already satisfied: nltk in c:\\programdata\\anaconda3\\lib\\site-packages (3.4.4)\n",
      "Requirement already satisfied: six in c:\\programdata\\anaconda3\\lib\\site-packages (from nltk) (1.12.0)\n",
      "Note: you may need to restart the kernel to use updated packages.\n"
     ]
    }
   ],
   "source": [
    "pip install nltk"
   ]
  },
  {
   "cell_type": "code",
   "execution_count": 2,
   "metadata": {},
   "outputs": [
    {
     "name": "stderr",
     "output_type": "stream",
     "text": [
      "[nltk_data] Downloading package movie_reviews to\n",
      "[nltk_data]     C:\\Users\\rishi\\AppData\\Roaming\\nltk_data...\n",
      "[nltk_data]   Package movie_reviews is already up-to-date!\n"
     ]
    },
    {
     "data": {
      "text/plain": [
       "True"
      ]
     },
     "execution_count": 2,
     "metadata": {},
     "output_type": "execute_result"
    }
   ],
   "source": [
    "import nltk.classify.util\n",
    "from nltk.classify import NaiveBayesClassifier\n",
    "from nltk.corpus import movie_reviews\n",
    "nltk.download('movie_reviews')"
   ]
  },
  {
   "cell_type": "code",
   "execution_count": 3,
   "metadata": {},
   "outputs": [],
   "source": [
    "# Define a function to extract features\n",
    "def extract_features(word_list):\n",
    "    return dict([(word, True) for word in word_list])"
   ]
  },
  {
   "cell_type": "code",
   "execution_count": 4,
   "metadata": {},
   "outputs": [],
   "source": [
    "# We need training data for this, so we will use movie reviews in NLTK\n",
    "if __name__=='__main__':\n",
    "    # Load positive and negative reviews\n",
    "    positive_fileids = movie_reviews.fileids('pos')\n",
    "    negative_fileids = movie_reviews.fileids('neg')"
   ]
  },
  {
   "cell_type": "code",
   "execution_count": 5,
   "metadata": {},
   "outputs": [],
   "source": [
    "# Let’s separate these into positive and negative reviews\n",
    "features_positive = [(extract_features(movie_reviews.words(fileids=[f])), 'Positive') for f in positive_fileids]\n",
    "features_negative = [(extract_features(movie_reviews.words(fileids=[f])), 'Negative') for f in negative_fileids]"
   ]
  },
  {
   "cell_type": "code",
   "execution_count": 6,
   "metadata": {},
   "outputs": [],
   "source": [
    "# Divide the data into training and testing datasets\n",
    "# Split the data into train and test (80/20)\n",
    "threshold_factor = 0.8\n",
    "threshold_positive = int(threshold_factor * len(features_positive))\n",
    "threshold_negative = int(threshold_factor * len(features_negative))"
   ]
  },
  {
   "cell_type": "code",
   "execution_count": 7,
   "metadata": {},
   "outputs": [
    {
     "name": "stdout",
     "output_type": "stream",
     "text": [
      "Number of training datapoints: 1600\n",
      "Number of test datapoints: 400\n"
     ]
    }
   ],
   "source": [
    "# Extract the features\n",
    "features_train = features_positive[:threshold_positive] + features_negative[:threshold_negative]\n",
    "features_test = features_positive[threshold_positive:] + features_negative[threshold_negative:]\n",
    "print(\"Number of training datapoints:\", len(features_train))\n",
    "print(\"Number of test datapoints:\", len(features_test))"
   ]
  },
  {
   "cell_type": "code",
   "execution_count": 8,
   "metadata": {},
   "outputs": [
    {
     "name": "stdout",
     "output_type": "stream",
     "text": [
      "\n",
      "Accuracy of the classifier: 0.735\n"
     ]
    }
   ],
   "source": [
    "# We will use a Naive Bayes classifier. Define the object and train it\n",
    "# Train a Naive Bayes classifier\n",
    "classifier = NaiveBayesClassifier.train(features_train)\n",
    "print (\"\\nAccuracy of the classifier:\", nltk.classify.util.accuracy(classifier, features_test))"
   ]
  },
  {
   "cell_type": "code",
   "execution_count": 9,
   "metadata": {},
   "outputs": [
    {
     "name": "stdout",
     "output_type": "stream",
     "text": [
      "\n",
      "Top 10 most informative words:\n",
      "outstanding\n",
      "insulting\n",
      "vulnerable\n",
      "ludicrous\n",
      "uninvolving\n",
      "avoids\n",
      "astounding\n",
      "fascination\n",
      "darker\n",
      "animators\n"
     ]
    }
   ],
   "source": [
    "# The classifier object contains the most informative words that it obtained during analysis. These words basically have a strong say in what’s classified as a positive or a negative review\n",
    "print (\"\\nTop 10 most informative words:\")\n",
    "for item in classifier.most_informative_features()[:10]:\n",
    "    print (item[0])"
   ]
  },
  {
   "cell_type": "code",
   "execution_count": 10,
   "metadata": {},
   "outputs": [],
   "source": [
    "# Creating a couple of random input sentences\n",
    "# Sample input1 reviews\n",
    "input_reviews = [\"It is an amazing movie.\", \n",
    "                 \"This is a good movie. I would recommend it.\",\n",
    "                 \"The cinematography is pretty great in this movie.\", \n",
    "                 \"The direction was terrible and the story was all over the place.\" ]"
   ]
  },
  {
   "cell_type": "code",
   "execution_count": 11,
   "metadata": {},
   "outputs": [
    {
     "name": "stdout",
     "output_type": "stream",
     "text": [
      "Predictions:\n",
      "Review: It is an amazing movie.\n",
      "Predicted sentiment: Positive\n",
      "Probability: 0.63\n",
      "Review: This is a good movie. I would recommend it.\n",
      "Predicted sentiment: Positive\n",
      "Probability: 0.51\n",
      "Review: The cinematography is pretty great in this movie.\n",
      "Predicted sentiment: Positive\n",
      "Probability: 0.69\n",
      "Review: The direction was terrible and the story was all over the place.\n",
      "Predicted sentiment: Negative\n",
      "Probability: 0.67\n"
     ]
    }
   ],
   "source": [
    "# Runing the classifier on those input sentences and obtain the predictions\n",
    "print (\"Predictions:\")\n",
    "for review in input_reviews:\n",
    "    print (\"Review:\", review)\n",
    "    probdist = classifier.prob_classify(extract_features(review.split()))\n",
    "    pred_sentiment = probdist.max()\n",
    "    # Printing the output\n",
    "    print (\"Predicted sentiment:\", pred_sentiment) \n",
    "    print (\"Probability:\", round(probdist.prob(pred_sentiment), 2))"
   ]
  },
  {
   "cell_type": "code",
   "execution_count": 12,
   "metadata": {},
   "outputs": [],
   "source": [
    "# Creating a couple of random input sentences\n",
    "# Sample input2 reviews\n",
    "input_reviews = [\"Actors acted upto the mark.\",\n",
    "                 \"Extremely Terrible Movie and story line was bad.\", \n",
    "                 \"The cinematography was pretty great but acting was okay.\", \n",
    "                 \"The direction was terrible but the story was good.\" \n",
    "                ]"
   ]
  },
  {
   "cell_type": "code",
   "execution_count": 13,
   "metadata": {},
   "outputs": [
    {
     "name": "stdout",
     "output_type": "stream",
     "text": [
      "Predictions:\n",
      "Review: Actors acted upto the mark.\n",
      "Predicted sentiment: Positive\n",
      "Probability: 0.53\n",
      "Review: Extremely Terrible Movie and story line was bad.\n",
      "Predicted sentiment: Negative\n",
      "Probability: 0.51\n",
      "Review: The cinematography was pretty great but acting was okay.\n",
      "Predicted sentiment: Positive\n",
      "Probability: 0.65\n",
      "Review: The direction was terrible but the story was good.\n",
      "Predicted sentiment: Negative\n",
      "Probability: 0.69\n"
     ]
    }
   ],
   "source": [
    "# Runing the classifier on those input sentences and obtain the predictions\n",
    "print (\"Predictions:\")\n",
    "for review in input_reviews:\n",
    "    print (\"Review:\", review)\n",
    "    probdist = classifier.prob_classify(extract_features(review.split()))\n",
    "    pred_sentiment = probdist.max()\n",
    "    # Printing the output\n",
    "    print (\"Predicted sentiment:\", pred_sentiment) \n",
    "    print (\"Probability:\", round(probdist.prob(pred_sentiment), 2))"
   ]
  },
  {
   "cell_type": "code",
   "execution_count": null,
   "metadata": {},
   "outputs": [],
   "source": []
  }
 ],
 "metadata": {
  "kernelspec": {
   "display_name": "Python 3",
   "language": "python",
   "name": "python3"
  },
  "language_info": {
   "codemirror_mode": {
    "name": "ipython",
    "version": 3
   },
   "file_extension": ".py",
   "mimetype": "text/x-python",
   "name": "python",
   "nbconvert_exporter": "python",
   "pygments_lexer": "ipython3",
   "version": "3.7.3"
  }
 },
 "nbformat": 4,
 "nbformat_minor": 2
}
